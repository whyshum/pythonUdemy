{
 "cells": [
  {
   "cell_type": "code",
   "execution_count": 1,
   "id": "b436933f",
   "metadata": {},
   "outputs": [
    {
     "name": "stdout",
     "output_type": "stream",
     "text": [
      "[1, 2, 3]\n"
     ]
    }
   ],
   "source": [
    "print([1,2,3])"
   ]
  },
  {
   "cell_type": "code",
   "execution_count": 2,
   "id": "e991bfd1",
   "metadata": {},
   "outputs": [
    {
     "name": "stdout",
     "output_type": "stream",
     "text": [
      "[1, 2, 3]\n",
      "[1, 2, 3]\n",
      "[1, 2, 3]\n"
     ]
    }
   ],
   "source": [
    "print([1,2,3])\n",
    "print([1,2,3])\n",
    "print([1,2,3])"
   ]
  },
  {
   "cell_type": "code",
   "execution_count": 3,
   "id": "954d7bf4",
   "metadata": {},
   "outputs": [],
   "source": [
    "def display(r1,r2,r3):\n",
    "    print(r1)\n",
    "    print(r2)\n",
    "    print(r3)\n",
    "    "
   ]
  },
  {
   "cell_type": "code",
   "execution_count": 5,
   "id": "98fdc381",
   "metadata": {},
   "outputs": [
    {
     "name": "stdout",
     "output_type": "stream",
     "text": [
      "['', '', '']\n",
      "['', '', '']\n",
      "['', '', '']\n"
     ]
    }
   ],
   "source": [
    "\n",
    "r1=['','','']\n",
    "r2=['','','']\n",
    "r3=['','','']\n",
    "display(r1,r2,r3)"
   ]
  },
  {
   "cell_type": "code",
   "execution_count": 6,
   "id": "76975411",
   "metadata": {},
   "outputs": [],
   "source": [
    "r2[1]='x'"
   ]
  },
  {
   "cell_type": "code",
   "execution_count": 7,
   "id": "2acedcec",
   "metadata": {},
   "outputs": [
    {
     "name": "stdout",
     "output_type": "stream",
     "text": [
      "['', '', '']\n",
      "['', 'x', '']\n",
      "['', '', '']\n"
     ]
    }
   ],
   "source": [
    "display(r1,r2,r3)"
   ]
  },
  {
   "cell_type": "code",
   "execution_count": 12,
   "id": "a83f57d1",
   "metadata": {},
   "outputs": [
    {
     "name": "stdout",
     "output_type": "stream",
     "text": [
      "choose a position to mark: 1\n"
     ]
    },
    {
     "data": {
      "text/plain": [
       "2"
      ]
     },
     "execution_count": 12,
     "metadata": {},
     "output_type": "execute_result"
    }
   ],
   "source": [
    "position=int(input(\"choose a position to mark: \"))\n",
    "r2[position]\n"
   ]
  },
  {
   "cell_type": "code",
   "execution_count": 9,
   "id": "c7e419e1",
   "metadata": {},
   "outputs": [
    {
     "name": "stdout",
     "output_type": "stream",
     "text": [
      "['', '', '']\n",
      "['', 2, '']\n",
      "['', '', '']\n"
     ]
    }
   ],
   "source": [
    "display(r1,r2,r3)"
   ]
  },
  {
   "cell_type": "code",
   "execution_count": 1,
   "id": "2a46fe20",
   "metadata": {},
   "outputs": [],
   "source": [
    "def choice():\n",
    "    choice='wrong'\n",
    "    rang=range(0,10)\n",
    "    within=False\n",
    "    while choice.isdigit() == False or within==False:\n",
    "        choice=input(\"Please enter a number (0-10): \")\n",
    "        if choice.isdigit() == False:\n",
    "            print(\"sorry that is not a digit\")\n",
    "        if choice.isdigit():\n",
    "            if int(choice) in rang:\n",
    "                within==True\n",
    "            else:\n",
    "                print(\"sorry u r not in range\")\n",
    "                within==False\n",
    "        \n",
    "    return int(choice)"
   ]
  },
  {
   "cell_type": "code",
   "execution_count": null,
   "id": "9eab7c1c",
   "metadata": {},
   "outputs": [
    {
     "name": "stdout",
     "output_type": "stream",
     "text": [
      "Please enter a number (0-10): 10\n",
      "sorry u r not in range\n",
      "Please enter a number (0-10): 5\n"
     ]
    }
   ],
   "source": [
    "choice()"
   ]
  },
  {
   "cell_type": "code",
   "execution_count": 2,
   "id": "35e798d3",
   "metadata": {},
   "outputs": [],
   "source": [
    "def inter():\n",
    "    ran=range(1,3)\n",
    "    pos_range=False\n",
    "    pos=''\n",
    "    num=''\n",
    "    while num.isdigit()==False or pos_range==False:\n",
    "        num=input(\"please enter a number: \")\n",
    "        if num.isdigit() == False:\n",
    "            print(\"sorry that is not a digit\")\n",
    "        pos=input(\"please enter position in range 0-3:\")\n",
    "        if pos.isdigit() == False:\n",
    "            print(\"sorry that is not a digit\")\n",
    "        if pos.isdigit() == False:\n",
    "            print(\"sorry that is not a digit\")\n",
    "        if pos.isdigit()== True and num.isdigit()==True:\n",
    "            if int(pos) in ran:\n",
    "                pos_range=True\n",
    "            else:\n",
    "                pos_range=False\n",
    "                "
   ]
  },
  {
   "cell_type": "code",
   "execution_count": 3,
   "id": "51d1afa6",
   "metadata": {},
   "outputs": [
    {
     "name": "stdout",
     "output_type": "stream",
     "text": [
      "please enter a number: 10\n",
      "please enter position in range 0-35\n",
      "please enter a number: 10\n",
      "please enter position in range 0-32\n"
     ]
    }
   ],
   "source": [
    "inter()"
   ]
  },
  {
   "cell_type": "markdown",
   "id": "823a511d",
   "metadata": {},
   "source": [
    "#game"
   ]
  },
  {
   "cell_type": "code",
   "execution_count": 17,
   "id": "0cdefa14",
   "metadata": {},
   "outputs": [
    {
     "name": "stdout",
     "output_type": "stream",
     "text": [
      "list of numbers available: \n",
      "[1, 2, 3, 4, 5]\n",
      "Enter the position(0,1,2,3 or 4):1\n",
      "enter a val at pos:9\n",
      "list of numbers available: \n",
      "[1, '9', 3, 4, 5]\n",
      "would you like to play: Y or N N\n"
     ]
    }
   ],
   "source": [
    "def lis(game_list):\n",
    "    print(\"list of numbers available: \")\n",
    "    print(game_list)\n",
    "def pos_choice():\n",
    "    choice='wrong'\n",
    "    while choice not in ['0','1','2','3','4']:\n",
    "        choice=input(\"Enter the position(0,1,2,3 or 4):\")\n",
    "        if choice not in ['0','1','2','3','4']:\n",
    "            print(\"sorry invalid choice !\")\n",
    "    return int(choice)\n",
    "def replacement(game_list,position):\n",
    "    user_replacement=input(\"enter a val at pos:\")\n",
    "    game_list[position]=user_replacement\n",
    "    return game_list\n",
    "def game_choice():\n",
    "    choice='wrong'\n",
    "    while choice not in ['Y','N']:\n",
    "        choice=input(\"would you like to play: Y or N \")\n",
    "        if choice not in ['Y','N']:\n",
    "            #clear.output()\n",
    "            print(\"Sorry i didn't understand please choose Y or N. \")\n",
    "    if choice=='Y':\n",
    "        return True\n",
    "    else:\n",
    "        return False\n",
    "game_on=True\n",
    "game_list=[1,2,3,4,5]\n",
    "while game_on==True:\n",
    "    lis(game_list)\n",
    "    ch=pos_choice()\n",
    "    game_list=replacement(game_list,ch)\n",
    "    lis(game_list)\n",
    "    game_on=game_choice()"
   ]
  },
  {
   "cell_type": "code",
   "execution_count": 4,
   "id": "74681da0",
   "metadata": {},
   "outputs": [],
   "source": [
    "def pos_choice():\n",
    "    choice='wrong'\n",
    "    while choice not in ['0','1','2','3','4']:\n",
    "        choice=input(\"Enter the position(0,1,2,3 or 4):\")\n",
    "        if choice not in ['0','1','2','3','4']:\n",
    "            print(\"sorry invalid choice !\")\n",
    "    return int(choice)"
   ]
  },
  {
   "cell_type": "code",
   "execution_count": 7,
   "id": "b82995ea",
   "metadata": {},
   "outputs": [],
   "source": [
    "def replacement(game_list,position):\n",
    "    user_replacement=input(\"enter a val at pos:\")\n",
    "    game_list[position]=user_replacement\n",
    "    return game_list"
   ]
  },
  {
   "cell_type": "code",
   "execution_count": 13,
   "id": "1c5a80b7",
   "metadata": {},
   "outputs": [],
   "source": [
    "def game_choice():\n",
    "    choice='wrong'\n",
    "    while choice not in ['Y','N']:\n",
    "        choice=input(\"would you like to play: Y or N \")\n",
    "        if choice not in ['Y','N']:\n",
    "            #clear.output()\n",
    "            print(\"Sorry i didn't understand please choose Y or N. \")\n",
    "    if choice=='Y':\n",
    "        return True\n",
    "    else:\n",
    "        return False"
   ]
  },
  {
   "cell_type": "code",
   "execution_count": 14,
   "id": "2e08e35e",
   "metadata": {},
   "outputs": [
    {
     "name": "stdout",
     "output_type": "stream",
     "text": [
      "would you like to play: Y or N dfkdf\n",
      "Sorry i didn't understand please choose Y or N. \n",
      "would you like to play: Y or N Y\n"
     ]
    },
    {
     "data": {
      "text/plain": [
       "True"
      ]
     },
     "execution_count": 14,
     "metadata": {},
     "output_type": "execute_result"
    }
   ],
   "source": [
    "game_choice()"
   ]
  },
  {
   "cell_type": "code",
   "execution_count": 16,
   "id": "c1988ac6",
   "metadata": {},
   "outputs": [
    {
     "name": "stdout",
     "output_type": "stream",
     "text": [
      "list of numbers available: \n",
      "[1, 2, 3, 4, 5]\n",
      "Enter the position(0,1,2,3 or 4):00\n",
      "sorry invalid choice !\n",
      "Enter the position(0,1,2,3 or 4):1\n",
      "enter a val at pos:6\n",
      "list of numbers available: \n",
      "[1, '6', 3, 4, 5]\n",
      "would you like to play: Y or N Y\n",
      "list of numbers available: \n",
      "[1, '6', 3, 4, 5]\n",
      "Enter the position(0,1,2,3 or 4):N\n",
      "sorry invalid choice !\n",
      "Enter the position(0,1,2,3 or 4):N\n",
      "sorry invalid choice !\n",
      "Enter the position(0,1,2,3 or 4):0\n",
      "enter a val at pos:wdkm\n",
      "list of numbers available: \n",
      "['wdkm', '6', 3, 4, 5]\n",
      "would you like to play: Y or N N\n"
     ]
    }
   ],
   "source": [
    "game_on=True\n",
    "game_list=[1,2,3,4,5]\n",
    "while game_on==True:\n",
    "    lis(game_list)\n",
    "    ch=pos_choice()\n",
    "    game_list=replacement(game_list,ch)\n",
    "    lis(game_list)\n",
    "    game_on=game_choice()"
   ]
  },
  {
   "cell_type": "markdown",
   "id": "f21a053e",
   "metadata": {},
   "source": [
    "------------------------------------------------------------------------"
   ]
  },
  {
   "cell_type": "code",
   "execution_count": null,
   "id": "3c246744",
   "metadata": {},
   "outputs": [],
   "source": []
  },
  {
   "cell_type": "code",
   "execution_count": null,
   "id": "286277b5",
   "metadata": {},
   "outputs": [],
   "source": []
  },
  {
   "cell_type": "code",
   "execution_count": null,
   "id": "4e23927d",
   "metadata": {},
   "outputs": [],
   "source": []
  },
  {
   "cell_type": "code",
   "execution_count": 1,
   "id": "a1765ab5",
   "metadata": {},
   "outputs": [],
   "source": [
    "from IPython.display import clear_output\n",
    "clear_output()\n",
    "import random"
   ]
  },
  {
   "cell_type": "code",
   "execution_count": 2,
   "id": "c86492ca",
   "metadata": {},
   "outputs": [],
   "source": [
    "def display_board(board):\n",
    "    clear_output()\n",
    "    print(board[1]+' |'+board[2]+' |'+board[3])\n",
    "    print('__|__|__')\n",
    "    print(board[4]+' |'+board[5]+' |'+board[6])\n",
    "    print('__|__|__')\n",
    "    print(board[7]+' |'+board[8]+' |'+board[9])\n",
    "    print('  |  |  ')\n",
    "    \n",
    "def player_input():\n",
    "    marker=''\n",
    "    while marker!='X' and marker!='Y':\n",
    "        marker=input(\"player 1, choose your symbol: X or O: \")\n",
    "    player1=marker    \n",
    "    if player1=='X':\n",
    "        player2='O'\n",
    "    else:\n",
    "        player2='X'\n",
    "    return (player1,player2)\n",
    "def place_marker(board, marker, position):\n",
    "    board[position]=marker\n",
    "    return board\n",
    "def win_check(board, mark):\n",
    "    \n",
    "    return ((board[1]==mark and board[2]==mark and board[3]==mark)or\n",
    "             (board[1]==mark and board[5]==mark and board[9]==mark) or \n",
    "             (board[1]==mark and board[4]==mark and board[7]==mark)or\n",
    "             (board[2]==mark and board[5]==mark and board[8]==mark) or \n",
    "              (board[3]==mark and board[5]==mark and board[7]==mark)or\n",
    "             (board[3]==mark and board[6]==mark and board[9]==mark) or \n",
    "             (board[4]==mark and board[5]==mark and board[6]==mark)or\n",
    "             (board[7]==mark and board[8]==mark and board[9]==mark))\n",
    "def choose_first():\n",
    "    if random.randint(1,2)==1:\n",
    "        return 'Player 1'\n",
    "    else:\n",
    "        return 'player 2'\n",
    "def space_check(board, position):\n",
    "    return board[position]==' '\n",
    "def full_board_check(board):\n",
    "    return ' ' in board\n",
    "def player_choice(board):\n",
    "    choice=input(\"enter a position to place your mark: \")\n",
    "    if space_check(board,choice):\n",
    "        return choice\n",
    "def replay():\n",
    "    choice='wrong'\n",
    "    while choice not in ['Y','N']:\n",
    "        choice=input(\"would you like to play again : Y or N \")\n",
    "        if choice not in ['Y','N']:\n",
    "            #clear.output()\n",
    "            print(\"Sorry i didn't understand please choose Y or N. \")\n",
    "    if choice=='Y':\n",
    "        return True\n",
    "    else:\n",
    "        return False"
   ]
  },
  {
   "cell_type": "code",
   "execution_count": null,
   "id": "58a47c4d",
   "metadata": {},
   "outputs": [
    {
     "name": "stdout",
     "output_type": "stream",
     "text": [
      "  |  | \n",
      "__|__|__\n",
      "  |  | \n",
      "__|__|__\n",
      "  |  | \n",
      "  |  |  \n"
     ]
    }
   ],
   "source": [
    "print('Welcome to Tic Tac Toe!')\n",
    "\n",
    "while True:\n",
    "    board=[' ']*10\n",
    "    display_board(board)\n",
    "    p1,p2=player_input()\n",
    "    turn=choose_first()\n",
    "    print(turn+' will go first.')\n",
    "    play_game=input('are you ready to play Y or N')\n",
    "    if play_game=='Y':\n",
    "        game_on=True\n",
    "    else:\n",
    "        game_on=False\n",
    "    \n",
    "    \n",
    "    while game_on:\n",
    "        if turn=='Player 1':\n",
    "            display(board)\n",
    "            position=player_choice(board)\n",
    "            place_marker(board, p1, position)\n",
    "            if win_check(board, mark):\n",
    "                display(board)\n",
    "                print('congrats you won the game')\n",
    "                game_on=false\n",
    "            else:\n",
    "                if full_board_check(board):\n",
    "                    display(board)\n",
    "                    print(\"game is draw\")\n",
    "                else:\n",
    "                    turn='Player 2'\n",
    "                    \n",
    "        else:\n",
    "            display(board)\n",
    "            position=player_choice(board)\n",
    "            place_marker(board, p2, position)\n",
    "            if win_check(board, mark):\n",
    "                display(board)\n",
    "                print('congrats you won the game')\n",
    "                game_on=false\n",
    "            else:\n",
    "                if full_board_check(board):\n",
    "                    display(board)\n",
    "                    print(\"game is draw\")\n",
    "                else:\n",
    "                    turn='Player 1'\n",
    "            \n",
    "    if not replay():\n",
    "        break\n",
    "            \n",
    "            \n",
    "    "
   ]
  },
  {
   "cell_type": "code",
   "execution_count": null,
   "id": "6e774074",
   "metadata": {},
   "outputs": [],
   "source": []
  }
 ],
 "metadata": {
  "kernelspec": {
   "display_name": "Python 3",
   "language": "python",
   "name": "python3"
  },
  "language_info": {
   "codemirror_mode": {
    "name": "ipython",
    "version": 3
   },
   "file_extension": ".py",
   "mimetype": "text/x-python",
   "name": "python",
   "nbconvert_exporter": "python",
   "pygments_lexer": "ipython3",
   "version": "3.8.8"
  }
 },
 "nbformat": 4,
 "nbformat_minor": 5
}
