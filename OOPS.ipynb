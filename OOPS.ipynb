{
 "cells": [
  {
   "cell_type": "code",
   "execution_count": 1,
   "id": "f11ffe1a",
   "metadata": {},
   "outputs": [],
   "source": [
    "mylist=[1,2,3]"
   ]
  },
  {
   "cell_type": "code",
   "execution_count": 4,
   "id": "befacb84",
   "metadata": {},
   "outputs": [],
   "source": [
    "mylist=set()"
   ]
  },
  {
   "cell_type": "code",
   "execution_count": 5,
   "id": "57842b07",
   "metadata": {},
   "outputs": [
    {
     "data": {
      "text/plain": [
       "set"
      ]
     },
     "execution_count": 5,
     "metadata": {},
     "output_type": "execute_result"
    }
   ],
   "source": [
    "type(mylist)"
   ]
  },
  {
   "cell_type": "code",
   "execution_count": 54,
   "id": "8e167b9e",
   "metadata": {},
   "outputs": [],
   "source": [
    "class Dog(Animal):\n",
    "    species='mammal'\n",
    "    def __init__(self,mybreed,name): #like constructor\n",
    "        \n",
    "        self.breed=mybreed #breed is attribute and mybreed is argument\n",
    "        self.name=name\n",
    "        \n",
    "    def bark(self,number): #methods are the functions defined inside the class, acting on object they take the object itself into account through using self argument\n",
    "        print(\"Woofff...! my name is {} and my number is {}\".format(self.name,number))"
   ]
  },
  {
   "cell_type": "code",
   "execution_count": 55,
   "id": "29402d51",
   "metadata": {},
   "outputs": [],
   "source": [
    "my_dog=Dog('Lab','laila')"
   ]
  },
  {
   "cell_type": "code",
   "execution_count": null,
   "id": "7d52a798",
   "metadata": {},
   "outputs": [],
   "source": []
  },
  {
   "cell_type": "code",
   "execution_count": 56,
   "id": "b2f7e295",
   "metadata": {},
   "outputs": [
    {
     "data": {
      "text/plain": [
       "'Lab'"
      ]
     },
     "execution_count": 56,
     "metadata": {},
     "output_type": "execute_result"
    }
   ],
   "source": [
    "my_dog.breed"
   ]
  },
  {
   "cell_type": "code",
   "execution_count": 57,
   "id": "0ff84214",
   "metadata": {},
   "outputs": [
    {
     "data": {
      "text/plain": [
       "'mammal'"
      ]
     },
     "execution_count": 57,
     "metadata": {},
     "output_type": "execute_result"
    }
   ],
   "source": [
    "my_dog.species"
   ]
  },
  {
   "cell_type": "code",
   "execution_count": 58,
   "id": "a4700a8a",
   "metadata": {},
   "outputs": [
    {
     "name": "stdout",
     "output_type": "stream",
     "text": [
      "Woofff...! my name is laila and my number is 10\n"
     ]
    }
   ],
   "source": [
    "my_dog.bark(10)\n"
   ]
  },
  {
   "cell_type": "code",
   "execution_count": 76,
   "id": "78574de3",
   "metadata": {},
   "outputs": [],
   "source": [
    "class Circle:\n",
    "    pi=3.14\n",
    "    def __init__(self,radius=1):\n",
    "        self.radius=radius\n",
    "    def circumference(self):\n",
    "        return 2*self.pi*self.radius\n",
    "    def area(self):\n",
    "        return self.pi*self.radius*self.radius"
   ]
  },
  {
   "cell_type": "code",
   "execution_count": 77,
   "id": "80a416e5",
   "metadata": {},
   "outputs": [],
   "source": [
    "my_circle=Circle(10)"
   ]
  },
  {
   "cell_type": "code",
   "execution_count": 78,
   "id": "7b3ddd5e",
   "metadata": {},
   "outputs": [
    {
     "data": {
      "text/plain": [
       "62.800000000000004"
      ]
     },
     "execution_count": 78,
     "metadata": {},
     "output_type": "execute_result"
    }
   ],
   "source": [
    "my_circle.circumference()"
   ]
  },
  {
   "cell_type": "code",
   "execution_count": 79,
   "id": "8ecbcf7e",
   "metadata": {},
   "outputs": [
    {
     "data": {
      "text/plain": [
       "314.0"
      ]
     },
     "execution_count": 79,
     "metadata": {},
     "output_type": "execute_result"
    }
   ],
   "source": [
    "my_circle.area()"
   ]
  },
  {
   "cell_type": "code",
   "execution_count": null,
   "id": "890529e3",
   "metadata": {},
   "outputs": [],
   "source": []
  },
  {
   "cell_type": "code",
   "execution_count": null,
   "id": "14dbefe8",
   "metadata": {},
   "outputs": [],
   "source": []
  },
  {
   "cell_type": "code",
   "execution_count": null,
   "id": "de1bde47",
   "metadata": {},
   "outputs": [],
   "source": []
  },
  {
   "cell_type": "code",
   "execution_count": 80,
   "id": "7ce35739",
   "metadata": {},
   "outputs": [],
   "source": [
    "#inheritance\n"
   ]
  },
  {
   "cell_type": "code",
   "execution_count": 81,
   "id": "8eb9fb37",
   "metadata": {},
   "outputs": [],
   "source": [
    "class Animal():\n",
    "    def __init__(self):\n",
    "        print(\"animal created\")\n",
    "    def who(self):\n",
    "        print(\"i am an animal\")\n",
    "    def eat(self):\n",
    "        print(\"i am eating\")"
   ]
  },
  {
   "cell_type": "code",
   "execution_count": 87,
   "id": "58e035ba",
   "metadata": {},
   "outputs": [
    {
     "name": "stdout",
     "output_type": "stream",
     "text": [
      "animal created\n"
     ]
    }
   ],
   "source": [
    "my_animal=Animal()"
   ]
  },
  {
   "cell_type": "code",
   "execution_count": 88,
   "id": "02e37e3c",
   "metadata": {},
   "outputs": [
    {
     "name": "stdout",
     "output_type": "stream",
     "text": [
      "i am eating\n"
     ]
    }
   ],
   "source": [
    "my_animal.eat()"
   ]
  },
  {
   "cell_type": "code",
   "execution_count": 96,
   "id": "c03fdacc",
   "metadata": {},
   "outputs": [],
   "source": [
    "class Dogs(Animal):#sub/child class inheriting animal (parent/super) class\n",
    "#     species='mammal'\n",
    "    def __init__(self): \n",
    "        Animal.__init__(self)\n",
    "        print(\"Dog Created\")\n",
    "    def who(self):\n",
    "        print(\"I am a dog\")#method overriding\n",
    "    def bark(self,name): #methods are the functions defined inside the class, acting on object they take the object itself into account through using self argument\n",
    "        print(\"Woofff...! my name is {} \".format(name))"
   ]
  },
  {
   "cell_type": "code",
   "execution_count": 97,
   "id": "b8c5ad32",
   "metadata": {},
   "outputs": [
    {
     "name": "stdout",
     "output_type": "stream",
     "text": [
      "animal created\n",
      "Dog Created\n"
     ]
    }
   ],
   "source": [
    "my_dog=Dogs()"
   ]
  },
  {
   "cell_type": "code",
   "execution_count": 98,
   "id": "ed362b7a",
   "metadata": {},
   "outputs": [
    {
     "name": "stdout",
     "output_type": "stream",
     "text": [
      "I am a dog\n"
     ]
    }
   ],
   "source": [
    "my_dog.who()"
   ]
  },
  {
   "cell_type": "code",
   "execution_count": 100,
   "id": "bc475a92",
   "metadata": {},
   "outputs": [
    {
     "name": "stdout",
     "output_type": "stream",
     "text": [
      "Woofff...! my name is laila \n"
     ]
    }
   ],
   "source": [
    "my_dog.bark('laila')"
   ]
  },
  {
   "cell_type": "code",
   "execution_count": 112,
   "id": "41ca78e8",
   "metadata": {},
   "outputs": [],
   "source": [
    "#POLYMORPHISM#below is a run time/dynamic"
   ]
  },
  {
   "cell_type": "code",
   "execution_count": 102,
   "id": "97b79f38",
   "metadata": {},
   "outputs": [],
   "source": [
    "class Dogie():\n",
    "    def __init__(self,name):\n",
    "        self.name=name\n",
    "    def speak(self):\n",
    "        return self.name+\" says Woof..!\""
   ]
  },
  {
   "cell_type": "code",
   "execution_count": 103,
   "id": "17714fe3",
   "metadata": {},
   "outputs": [],
   "source": [
    "class Cat():\n",
    "    def __init__(self,name):\n",
    "        self.name=name\n",
    "    def speak(self):\n",
    "        return self.name+\" says Meow..!\""
   ]
  },
  {
   "cell_type": "code",
   "execution_count": 104,
   "id": "d232ca98",
   "metadata": {},
   "outputs": [],
   "source": [
    "niko=Dogie('niko')\n",
    "phenix=Cat(\"phenix\")"
   ]
  },
  {
   "cell_type": "code",
   "execution_count": 105,
   "id": "e0872879",
   "metadata": {},
   "outputs": [
    {
     "name": "stdout",
     "output_type": "stream",
     "text": [
      "niko says Woof..!\n"
     ]
    }
   ],
   "source": [
    "print(niko.speak())"
   ]
  },
  {
   "cell_type": "code",
   "execution_count": 106,
   "id": "98428fc9",
   "metadata": {},
   "outputs": [
    {
     "data": {
      "text/plain": [
       "'niko says Woof..!'"
      ]
     },
     "execution_count": 106,
     "metadata": {},
     "output_type": "execute_result"
    }
   ],
   "source": [
    "niko.speak()"
   ]
  },
  {
   "cell_type": "code",
   "execution_count": 108,
   "id": "66968337",
   "metadata": {},
   "outputs": [
    {
     "name": "stdout",
     "output_type": "stream",
     "text": [
      "<class '__main__.Dogie'>\n",
      "niko says Woof..!\n",
      "<class '__main__.Cat'>\n",
      "phenix says Meow..!\n"
     ]
    }
   ],
   "source": [
    "# for pet in [niko,phenix]:\n",
    "#     print(type(pet))\n",
    "#     print(pet.speak())"
   ]
  },
  {
   "cell_type": "code",
   "execution_count": 109,
   "id": "e39e4651",
   "metadata": {},
   "outputs": [],
   "source": [
    "def pet_speak(pet):\n",
    "    print(pet.speak())"
   ]
  },
  {
   "cell_type": "code",
   "execution_count": 110,
   "id": "c1f68181",
   "metadata": {},
   "outputs": [
    {
     "name": "stdout",
     "output_type": "stream",
     "text": [
      "niko says Woof..!\n"
     ]
    }
   ],
   "source": [
    "pet_speak(niko)"
   ]
  },
  {
   "cell_type": "code",
   "execution_count": 111,
   "id": "f13568e8",
   "metadata": {},
   "outputs": [
    {
     "name": "stdout",
     "output_type": "stream",
     "text": [
      "phenix says Meow..!\n"
     ]
    }
   ],
   "source": [
    "pet_speak(phenix)"
   ]
  },
  {
   "cell_type": "code",
   "execution_count": 113,
   "id": "fa703b5e",
   "metadata": {},
   "outputs": [],
   "source": [
    "mylist=[1,2,3]"
   ]
  },
  {
   "cell_type": "code",
   "execution_count": 114,
   "id": "7e778628",
   "metadata": {},
   "outputs": [
    {
     "data": {
      "text/plain": [
       "3"
      ]
     },
     "execution_count": 114,
     "metadata": {},
     "output_type": "execute_result"
    }
   ],
   "source": [
    "len(mylist)"
   ]
  },
  {
   "cell_type": "code",
   "execution_count": 118,
   "id": "a5dadc1c",
   "metadata": {},
   "outputs": [],
   "source": [
    "class Sample():\n",
    "    pass\n",
    "mysample=Sample()\n"
   ]
  },
  {
   "cell_type": "code",
   "execution_count": 119,
   "id": "09871ac6",
   "metadata": {},
   "outputs": [
    {
     "name": "stdout",
     "output_type": "stream",
     "text": [
      "<__main__.Sample object at 0x7fb4a1a96a00>\n"
     ]
    }
   ],
   "source": [
    "print(mysample)"
   ]
  },
  {
   "cell_type": "code",
   "execution_count": 121,
   "id": "ecbba933",
   "metadata": {},
   "outputs": [],
   "source": [
    "#special/ magic/dunder methods"
   ]
  },
  {
   "cell_type": "code",
   "execution_count": 143,
   "id": "9b5d29fb",
   "metadata": {},
   "outputs": [],
   "source": [
    "class Books():\n",
    "    def __init__(self,title,author,pages):\n",
    "        self.title=title\n",
    "        self.author=author\n",
    "        self.pages=pages\n",
    "    def __str__(self):\n",
    "        return f\"{self.title} by {self.author}\"\n",
    "    def __len__(self):\n",
    "        return self.pages\n",
    "    def __del__(self):\n",
    "        print(\"book object is deleted\")"
   ]
  },
  {
   "cell_type": "code",
   "execution_count": 144,
   "id": "2e004ab9",
   "metadata": {},
   "outputs": [],
   "source": [
    "b=Books(\"python\",\"vyshnavi\",100)"
   ]
  },
  {
   "cell_type": "code",
   "execution_count": 145,
   "id": "5d68b611",
   "metadata": {},
   "outputs": [
    {
     "name": "stdout",
     "output_type": "stream",
     "text": [
      "python by vyshnavi\n"
     ]
    }
   ],
   "source": [
    "print(b)"
   ]
  },
  {
   "cell_type": "code",
   "execution_count": 146,
   "id": "049c901b",
   "metadata": {},
   "outputs": [
    {
     "data": {
      "text/plain": [
       "100"
      ]
     },
     "execution_count": 146,
     "metadata": {},
     "output_type": "execute_result"
    }
   ],
   "source": [
    "len(b)"
   ]
  },
  {
   "cell_type": "code",
   "execution_count": 147,
   "id": "7fa7a93d",
   "metadata": {},
   "outputs": [
    {
     "name": "stdout",
     "output_type": "stream",
     "text": [
      "book object is deleted\n"
     ]
    }
   ],
   "source": [
    "del b"
   ]
  },
  {
   "cell_type": "code",
   "execution_count": 148,
   "id": "87b3bda7",
   "metadata": {},
   "outputs": [
    {
     "ename": "NameError",
     "evalue": "name 'b' is not defined",
     "output_type": "error",
     "traceback": [
      "\u001b[0;31m---------------------------------------------------------------------------\u001b[0m",
      "\u001b[0;31mNameError\u001b[0m                                 Traceback (most recent call last)",
      "\u001b[0;32m<ipython-input-148-89e6c98d9288>\u001b[0m in \u001b[0;36m<module>\u001b[0;34m\u001b[0m\n\u001b[0;32m----> 1\u001b[0;31m \u001b[0mb\u001b[0m\u001b[0;34m\u001b[0m\u001b[0;34m\u001b[0m\u001b[0m\n\u001b[0m",
      "\u001b[0;31mNameError\u001b[0m: name 'b' is not defined"
     ]
    }
   ],
   "source": [
    "b"
   ]
  },
  {
   "cell_type": "code",
   "execution_count": null,
   "id": "617b92ff",
   "metadata": {},
   "outputs": [],
   "source": []
  }
 ],
 "metadata": {
  "kernelspec": {
   "display_name": "Python 3",
   "language": "python",
   "name": "python3"
  },
  "language_info": {
   "codemirror_mode": {
    "name": "ipython",
    "version": 3
   },
   "file_extension": ".py",
   "mimetype": "text/x-python",
   "name": "python",
   "nbconvert_exporter": "python",
   "pygments_lexer": "ipython3",
   "version": "3.8.8"
  }
 },
 "nbformat": 4,
 "nbformat_minor": 5
}
